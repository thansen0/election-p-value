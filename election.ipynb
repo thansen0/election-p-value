{
 "cells": [
  {
   "cell_type": "markdown",
   "metadata": {},
   "source": [
    "# Election Statis\n",
    "\n",
    "$H_0$: There is no relationship between campaign funding and winning\n",
    "\n",
    "$H_1$: There is a relationship between campaign funding and winning\n",
    "\n",
    "I suspect there is no relationship anymore, and that it would be a negative relationship if you look at only recent data."
   ]
  },
  {
   "cell_type": "code",
   "execution_count": null,
   "metadata": {},
   "outputs": [],
   "source": [
    "import numpy as np\n",
    "import pandas as pd\n",
    "from scipy.stats import chisquare"
   ]
  },
  {
   "cell_type": "code",
   "execution_count": 1,
   "metadata": {},
   "outputs": [
    {
     "ename": "NameError",
     "evalue": "name 'pd' is not defined",
     "output_type": "error",
     "traceback": [
      "\u001b[0;31m---------------------------------------------------------------------------\u001b[0m",
      "\u001b[0;31mNameError\u001b[0m                                 Traceback (most recent call last)",
      "Cell \u001b[0;32mIn[1], line 1\u001b[0m\n\u001b[0;32m----> 1\u001b[0m elfd \u001b[38;5;241m=\u001b[39m \u001b[43mpd\u001b[49m\u001b[38;5;241m.\u001b[39mDataFrame(\n\u001b[1;32m      2\u001b[0m     {\u001b[38;5;124m\"\u001b[39m\u001b[38;5;124mRepublican\u001b[39m\u001b[38;5;124m\"\u001b[39m : [\u001b[38;5;241m1452617443\u001b[39m, \u001b[38;5;241m1087909269\u001b[39m],\n\u001b[1;32m      3\u001b[0m      \u001b[38;5;124m\"\u001b[39m\u001b[38;5;124mDemocrat\u001b[39m\u001b[38;5;124m\"\u001b[39m :   [\u001b[38;5;241m2001292139\u001b[39m, \u001b[38;5;241m1624301628\u001b[39m]},\n\u001b[1;32m      4\u001b[0m     index \u001b[38;5;241m=\u001b[39m               [\u001b[38;5;241m2024\u001b[39m,       \u001b[38;5;241m2020\u001b[39m]\n\u001b[1;32m      5\u001b[0m )\n\u001b[1;32m      7\u001b[0m elfd\n",
      "\u001b[0;31mNameError\u001b[0m: name 'pd' is not defined"
     ]
    }
   ],
   "source": [
    "elfd = pd.DataFrame(\n",
    "    {\"Republican\" : [1452617443, 1087909269],\n",
    "     \"Democrat\" :   [2001292139, 1624301628]},\n",
    "    index =               [2024,       2020]\n",
    ")\n",
    "\n",
    "elfd"
   ]
  }
 ],
 "metadata": {
  "kernelspec": {
   "display_name": ".venv",
   "language": "python",
   "name": "python3"
  },
  "language_info": {
   "codemirror_mode": {
    "name": "ipython",
    "version": 3
   },
   "file_extension": ".py",
   "mimetype": "text/x-python",
   "name": "python",
   "nbconvert_exporter": "python",
   "pygments_lexer": "ipython3",
   "version": "3.9.2"
  }
 },
 "nbformat": 4,
 "nbformat_minor": 2
}

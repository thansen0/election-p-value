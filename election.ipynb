{
 "cells": [
  {
   "cell_type": "markdown",
   "metadata": {},
   "source": [
    "# Election Statis\n",
    "\n",
    "$H_0$: There is no relationship between campaign funding and winning\n",
    "\n",
    "$H_1$: There is a relationship between campaign funding and winning\n",
    "\n",
    "I suspect there is no relationship anymore, and that it would be a negative relationship if you look at only recent data."
   ]
  },
  {
   "cell_type": "code",
   "execution_count": 2,
   "metadata": {},
   "outputs": [],
   "source": [
    "import numpy as np\n",
    "import pandas as pd\n",
    "from scipy.stats import chisquare"
   ]
  },
  {
   "cell_type": "code",
   "execution_count": 41,
   "metadata": {},
   "outputs": [
    {
     "data": {
      "text/html": [
       "<div>\n",
       "<style scoped>\n",
       "    .dataframe tbody tr th:only-of-type {\n",
       "        vertical-align: middle;\n",
       "    }\n",
       "\n",
       "    .dataframe tbody tr th {\n",
       "        vertical-align: top;\n",
       "    }\n",
       "\n",
       "    .dataframe thead th {\n",
       "        text-align: right;\n",
       "    }\n",
       "</style>\n",
       "<table border=\"1\" class=\"dataframe\">\n",
       "  <thead>\n",
       "    <tr style=\"text-align: right;\">\n",
       "      <th></th>\n",
       "      <th>Republican</th>\n",
       "      <th>Democrat</th>\n",
       "      <th>spend_diff</th>\n",
       "      <th>Democrat_pred_win</th>\n",
       "      <th>Democrat_act_win</th>\n",
       "    </tr>\n",
       "  </thead>\n",
       "  <tbody>\n",
       "    <tr>\n",
       "      <th>2024</th>\n",
       "      <td>1452617443</td>\n",
       "      <td>2001292139</td>\n",
       "      <td>548674696</td>\n",
       "      <td>1</td>\n",
       "      <td>0</td>\n",
       "    </tr>\n",
       "    <tr>\n",
       "      <th>2020</th>\n",
       "      <td>1087909269</td>\n",
       "      <td>1624301628</td>\n",
       "      <td>536392359</td>\n",
       "      <td>1</td>\n",
       "      <td>1</td>\n",
       "    </tr>\n",
       "    <tr>\n",
       "      <th>2016</th>\n",
       "      <td>433392727</td>\n",
       "      <td>769879088</td>\n",
       "      <td>336486361</td>\n",
       "      <td>1</td>\n",
       "      <td>0</td>\n",
       "    </tr>\n",
       "    <tr>\n",
       "      <th>2012</th>\n",
       "      <td>628140123</td>\n",
       "      <td>813649144</td>\n",
       "      <td>185509021</td>\n",
       "      <td>1</td>\n",
       "      <td>1</td>\n",
       "    </tr>\n",
       "    <tr>\n",
       "      <th>2008</th>\n",
       "      <td>701469440</td>\n",
       "      <td>1474505205</td>\n",
       "      <td>773035765</td>\n",
       "      <td>1</td>\n",
       "      <td>1</td>\n",
       "    </tr>\n",
       "  </tbody>\n",
       "</table>\n",
       "</div>"
      ],
      "text/plain": [
       "      Republican    Democrat  spend_diff  Democrat_pred_win  Democrat_act_win\n",
       "2024  1452617443  2001292139   548674696                  1                 0\n",
       "2020  1087909269  1624301628   536392359                  1                 1\n",
       "2016   433392727   769879088   336486361                  1                 0\n",
       "2012   628140123   813649144   185509021                  1                 1\n",
       "2008   701469440  1474505205   773035765                  1                 1"
      ]
     },
     "execution_count": 41,
     "metadata": {},
     "output_type": "execute_result"
    }
   ],
   "source": [
    "elfd = pd.DataFrame(\n",
    "    {\"Republican\" : [1452617443, 1087909269, 433392727, 628140123,  701469440],\n",
    "     \"Democrat\"   : [2001292139, 1624301628, 769879088, 813649144, 1474505205]},\n",
    "    index =               [2024,       2020,      2016,      2012,       2008]\n",
    ")\n",
    "\n",
    "elfd[\"spend_diff\"] = elfd[\"Democrat\"] - elfd[\"Republican\"]\n",
    "\n",
    "# 1 == win, 0 == loss\n",
    "elfd[\"Democrat_pred_win\"] = np.where(elfd[\"Democrat\"] > elfd[\"Republican\"], 1, 0)\n",
    "elfd[\"Democrat_act_win\"]  = [0, 1, 0, 1, 1]\n",
    "\n",
    "elfd"
   ]
  },
  {
   "cell_type": "markdown",
   "metadata": {},
   "source": [
    "# Logistic Regression"
   ]
  },
  {
   "cell_type": "code",
   "execution_count": 24,
   "metadata": {},
   "outputs": [],
   "source": [
    "from sklearn.model_selection import train_test_split\n",
    "from sklearn.linear_model import LogisticRegression\n",
    "from sklearn.metrics import accuracy_score"
   ]
  },
  {
   "cell_type": "code",
   "execution_count": null,
   "metadata": {},
   "outputs": [],
   "source": [
    "r_funds = elfd[\"Republican\"].to_numpy()\n",
    "d_funds = elfd[\"Democrat\"].to_numpy()\n",
    "\n",
    "#X_train, X_test, y_train, y_test = train_test_split(X, y, test_size=0.2, random_state=42)"
   ]
  },
  {
   "cell_type": "markdown",
   "metadata": {},
   "source": [
    "# Point‐Biserial Correlation\n",
    "\n",
    "Here, we consider a p-value < 0.05 as statistically significant, and a p-value < 0.01 as highly statistically significant. I high value, such as 0.99, would indicate the null hypothesis is correct, which is what we're expecting. A negative r-value suggests the correlation is inverted."
   ]
  },
  {
   "cell_type": "code",
   "execution_count": 27,
   "metadata": {},
   "outputs": [],
   "source": [
    "from scipy.stats import pointbiserialr"
   ]
  },
  {
   "cell_type": "code",
   "execution_count": 43,
   "metadata": {},
   "outputs": [
    {
     "name": "stdout",
     "output_type": "stream",
     "text": [
      "Top 3\n",
      "r: 0.4546875319720816\n",
      "r^2: 0.20674075173086273\n",
      "p_value: 0.6995018745563303\n",
      "\n",
      "All Data\n",
      "r: 0.13617182779070106\n",
      "r^2: 0.018542766683860346\n",
      "p_value: 0.827157966439151\n"
     ]
    }
   ],
   "source": [
    "elfd_3 = elfd.head(3)\n",
    "\n",
    "print(\"Top 3\")\n",
    "r, p_value = pointbiserialr(elfd_3['Democrat_act_win'], elfd_3['spend_diff'])\n",
    "print(\"r:\", r)\n",
    "print(\"r^2:\", r**2)\n",
    "print(\"p_value:\", p_value)\n",
    "\n",
    "print(\"\\nAll Data\")\n",
    "r, p_value = pointbiserialr(elfd['Democrat_act_win'], elfd['spend_diff'])\n",
    "print(\"r:\", r)\n",
    "print(\"r^2:\", r**2)\n",
    "print(\"p_value:\", p_value)"
   ]
  },
  {
   "cell_type": "markdown",
   "metadata": {},
   "source": [
    "# T-Test\n",
    "\n",
    "Used to guage whether the response between two groups is statistically significant."
   ]
  },
  {
   "cell_type": "code",
   "execution_count": null,
   "metadata": {},
   "outputs": [],
   "source": []
  }
 ],
 "metadata": {
  "kernelspec": {
   "display_name": ".venv",
   "language": "python",
   "name": "python3"
  },
  "language_info": {
   "codemirror_mode": {
    "name": "ipython",
    "version": 3
   },
   "file_extension": ".py",
   "mimetype": "text/x-python",
   "name": "python",
   "nbconvert_exporter": "python",
   "pygments_lexer": "ipython3",
   "version": "3.9.2"
  }
 },
 "nbformat": 4,
 "nbformat_minor": 2
}

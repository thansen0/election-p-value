{
 "cells": [
  {
   "cell_type": "markdown",
   "metadata": {},
   "source": [
    "# Election Statis\n",
    "\n",
    "$H_0$: There is no relationship between campaign funding and winning\n",
    "\n",
    "$H_1$: There is a relationship between campaign funding and winning\n",
    "\n",
    "I suspect there is no relationship anymore, and that it would be a negative relationship if you look at only recent data."
   ]
  },
  {
   "cell_type": "code",
   "execution_count": 118,
   "metadata": {},
   "outputs": [],
   "source": [
    "import numpy as np\n",
    "import pandas as pd\n",
    "from scipy.stats import chisquare\n",
    "import seaborn as sns"
   ]
  },
  {
   "cell_type": "code",
   "execution_count": 150,
   "metadata": {},
   "outputs": [
    {
     "data": {
      "text/html": [
       "<div>\n",
       "<style scoped>\n",
       "    .dataframe tbody tr th:only-of-type {\n",
       "        vertical-align: middle;\n",
       "    }\n",
       "\n",
       "    .dataframe tbody tr th {\n",
       "        vertical-align: top;\n",
       "    }\n",
       "\n",
       "    .dataframe thead th {\n",
       "        text-align: right;\n",
       "    }\n",
       "</style>\n",
       "<table border=\"1\" class=\"dataframe\">\n",
       "  <thead>\n",
       "    <tr style=\"text-align: right;\">\n",
       "      <th></th>\n",
       "      <th>Republican</th>\n",
       "      <th>Democrat</th>\n",
       "      <th>Inflation</th>\n",
       "      <th>Dem_votes</th>\n",
       "      <th>Rep_votes</th>\n",
       "      <th>spend_diff</th>\n",
       "      <th>vote_diff</th>\n",
       "      <th>Democrat_pred_win</th>\n",
       "      <th>Democrat_act_win</th>\n",
       "    </tr>\n",
       "  </thead>\n",
       "  <tbody>\n",
       "    <tr>\n",
       "      <th>2024</th>\n",
       "      <td>1452617443</td>\n",
       "      <td>2001292139</td>\n",
       "      <td>1.00</td>\n",
       "      <td>226</td>\n",
       "      <td>312</td>\n",
       "      <td>548674696</td>\n",
       "      <td>-86</td>\n",
       "      <td>1</td>\n",
       "      <td>0</td>\n",
       "    </tr>\n",
       "    <tr>\n",
       "      <th>2020</th>\n",
       "      <td>1087909269</td>\n",
       "      <td>1624301628</td>\n",
       "      <td>1.20</td>\n",
       "      <td>306</td>\n",
       "      <td>232</td>\n",
       "      <td>536392359</td>\n",
       "      <td>74</td>\n",
       "      <td>1</td>\n",
       "      <td>1</td>\n",
       "    </tr>\n",
       "    <tr>\n",
       "      <th>2016</th>\n",
       "      <td>433392727</td>\n",
       "      <td>769879088</td>\n",
       "      <td>1.30</td>\n",
       "      <td>227</td>\n",
       "      <td>304</td>\n",
       "      <td>336486361</td>\n",
       "      <td>-77</td>\n",
       "      <td>1</td>\n",
       "      <td>0</td>\n",
       "    </tr>\n",
       "    <tr>\n",
       "      <th>2012</th>\n",
       "      <td>628140123</td>\n",
       "      <td>813649144</td>\n",
       "      <td>1.36</td>\n",
       "      <td>332</td>\n",
       "      <td>206</td>\n",
       "      <td>185509021</td>\n",
       "      <td>126</td>\n",
       "      <td>1</td>\n",
       "      <td>1</td>\n",
       "    </tr>\n",
       "    <tr>\n",
       "      <th>2008</th>\n",
       "      <td>701469440</td>\n",
       "      <td>1474505205</td>\n",
       "      <td>1.46</td>\n",
       "      <td>365</td>\n",
       "      <td>173</td>\n",
       "      <td>773035765</td>\n",
       "      <td>192</td>\n",
       "      <td>1</td>\n",
       "      <td>1</td>\n",
       "    </tr>\n",
       "    <tr>\n",
       "      <th>2004</th>\n",
       "      <td>367228819</td>\n",
       "      <td>328479256</td>\n",
       "      <td>1.67</td>\n",
       "      <td>251</td>\n",
       "      <td>286</td>\n",
       "      <td>-38749563</td>\n",
       "      <td>-35</td>\n",
       "      <td>0</td>\n",
       "      <td>0</td>\n",
       "    </tr>\n",
       "  </tbody>\n",
       "</table>\n",
       "</div>"
      ],
      "text/plain": [
       "      Republican    Democrat  Inflation  Dem_votes  Rep_votes  spend_diff  \\\n",
       "2024  1452617443  2001292139       1.00        226        312   548674696   \n",
       "2020  1087909269  1624301628       1.20        306        232   536392359   \n",
       "2016   433392727   769879088       1.30        227        304   336486361   \n",
       "2012   628140123   813649144       1.36        332        206   185509021   \n",
       "2008   701469440  1474505205       1.46        365        173   773035765   \n",
       "2004   367228819   328479256       1.67        251        286   -38749563   \n",
       "\n",
       "      vote_diff  Democrat_pred_win  Democrat_act_win  \n",
       "2024        -86                  1                 0  \n",
       "2020         74                  1                 1  \n",
       "2016        -77                  1                 0  \n",
       "2012        126                  1                 1  \n",
       "2008        192                  1                 1  \n",
       "2004        -35                  0                 0  "
      ]
     },
     "execution_count": 150,
     "metadata": {},
     "output_type": "execute_result"
    }
   ],
   "source": [
    "# Inflation data from here, starting in Jan for each year https://www.bls.gov/data/inflation_calculator.htm\n",
    "\n",
    "elfd = pd.DataFrame(\n",
    "    {\"Republican\" : [1452617443, 1087909269, 433392727, 628140123,  701469440, 367228819],\n",
    "     \"Democrat\"   : [2001292139, 1624301628, 769879088, 813649144, 1474505205, 328479256],\n",
    "     \"Inflation\"  : [         1,       1.20,      1.30,      1.36,       1.46,      1.67], # 1.83 for 2000\n",
    "     \"Dem_votes\"  : [       226,        306,       227,       332,        365,       251],\n",
    "     \"Rep_votes\"  : [       312,        232,       304,       206,        173,       286]},\n",
    "      index =             [2024,       2020,      2016,      2012,       2008,      2004]\n",
    ")\n",
    "\n",
    "elfd[\"spend_diff\"] = elfd[\"Democrat\"] - elfd[\"Republican\"]\n",
    "elfd[\"vote_diff\"] = elfd[\"Dem_votes\"] - elfd[\"Rep_votes\"]\n",
    "\n",
    "# 1 == win, 0 == loss\n",
    "elfd[\"Democrat_pred_win\"] = np.where(elfd[\"Democrat\"] > elfd[\"Republican\"], 1, 0)\n",
    "elfd[\"Democrat_act_win\"]  = np.where(elfd[\"Dem_votes\"] > elfd[\"Rep_votes\"], 1, 0)\n",
    "\n",
    "elfd"
   ]
  },
  {
   "cell_type": "code",
   "execution_count": 138,
   "metadata": {},
   "outputs": [
    {
     "name": "stdout",
     "output_type": "stream",
     "text": [
      "        Party      Funding Democrat_act_win  Year\n",
      "0  Republican  1452.617443              win  2024\n",
      "1  Republican  1087.909269             loss  2020\n",
      "2  Republican   433.392727              win  2016\n",
      "3  Republican   628.140123             loss  2012\n",
      "4  Republican   701.469440             loss  2008\n"
     ]
    },
    {
     "data": {
      "text/plain": [
       "Text(0.5, 0.98, 'Republican and Democrat Win/Loss per Spending')"
      ]
     },
     "execution_count": 138,
     "metadata": {},
     "output_type": "execute_result"
    },
    {
     "data": {
      "image/png": "[encoded data removed]",
      "text/plain": [
       "<Figure size 739.625x600 with 1 Axes>"
      ]
     },
     "metadata": {},
     "output_type": "display_data"
    }
   ],
   "source": [
    "ndf = pd.melt(elfd).head(12).rename(columns={\"variable\": \"Party\"}).rename(columns={\"value\": \"Funding\"})\n",
    "ndf[\"Funding\"] = ndf[\"Funding\"] / 1000000 # In millions now\n",
    "ndf[\"Democrat_act_win\"] = [0,1,0,1,1,0,0,1,0,1,1,0]\n",
    "ndf[\"Democrat_act_win\"] = np.where(ndf[\"Democrat_act_win\"] == 0, \"win\", \"loss\")\n",
    "ndf[\"Year\"] = [2024, 2020, 2016, 2012, 2008, 2004, 2024, 2020, 2016, 2012, 2008, 2004]\n",
    "\n",
    "print(ndf.head(5))\n",
    "\n",
    "sns.set_theme(style=\"whitegrid\")\n",
    "reversed_palette = sns.color_palette(\"dark\", 2)[::-1]\n",
    "\n",
    "g = sns.catplot(\n",
    "    data=ndf, kind=\"bar\",\n",
    "    x=\"Year\", y=\"Funding\", hue=\"Party\",\n",
    "    errorbar=\"sd\", palette=reversed_palette, alpha=.6, height=6\n",
    ")\n",
    "g.despine(left=True)\n",
    "g.set_axis_labels(\"Election Year\", \"Spending (Millions)\")\n",
    "g.legend.set_title(\"\")\n",
    "g.fig.suptitle(\"Republican and Democrat Win/Loss per Spending\")"
   ]
  },
  {
   "cell_type": "code",
   "execution_count": 139,
   "metadata": {},
   "outputs": [
    {
     "name": "stdout",
     "output_type": "stream",
     "text": [
      "        Party      Funding Democrat_act_win  Year  Inflation\n",
      "0  Republican  1452.617443              win  2024       1.00\n",
      "1  Republican  1305.491123             loss  2020       1.20\n",
      "2  Republican   563.410545              win  2016       1.30\n",
      "3  Republican   854.270567             loss  2012       1.36\n",
      "4  Republican  1024.145382             loss  2008       1.46\n"
     ]
    },
    {
     "data": {
      "text/plain": [
       "Text(0.5, 0.98, 'Republican and Democrat Win/Loss per Spending')"
      ]
     },
     "execution_count": 139,
     "metadata": {},
     "output_type": "execute_result"
    },
    {
     "data": {
      "image/png": "[encoded data removed]",
      "text/plain": [
       "<Figure size 739.625x600 with 1 Axes>"
      ]
     },
     "metadata": {},
     "output_type": "display_data"
    }
   ],
   "source": [
    "ndf = pd.melt(elfd).head(12).rename(columns={\"variable\": \"Party\"}).rename(columns={\"value\": \"Funding\"})\n",
    "ndf[\"Democrat_act_win\"] = [0,1,0,1,1,0,0,1,0,1,1,0]\n",
    "ndf[\"Democrat_act_win\"] = np.where(ndf[\"Democrat_act_win\"] == 0, \"win\", \"loss\")\n",
    "ndf[\"Year\"] = [2024, 2020, 2016, 2012, 2008, 2004, 2024, 2020, 2016, 2012, 2008, 2004]\n",
    "ndf[\"Inflation\"] = [1, 1.20, 1.30, 1.36, 1.46, 1.67, 1, 1.20, 1.30, 1.36, 1.46, 1.67]\n",
    "ndf[\"Funding\"] = ndf[\"Funding\"] / 1000000 # In millions now\n",
    "ndf[\"Funding\"] = ndf[\"Funding\"] * ndf[\"Inflation\"]\n",
    "\n",
    "print(ndf.head(5))\n",
    "\n",
    "sns.set_theme(style=\"whitegrid\")\n",
    "reversed_palette = sns.color_palette(\"dark\", 2)[::-1]\n",
    "\n",
    "g = sns.catplot(\n",
    "    data=ndf, kind=\"bar\",\n",
    "    x=\"Year\", y=\"Funding\", hue=\"Party\",\n",
    "    errorbar=\"sd\", palette=reversed_palette, alpha=.6, height=6\n",
    ")\n",
    "g.despine(left=True)\n",
    "g.set_axis_labels(\"Election Year\", \"Spending (Millions)\")\n",
    "g.legend.set_title(\"\")\n",
    "g.fig.suptitle(\"Republican and Democrat Win/Loss per Spending\")"
   ]
  },
  {
   "cell_type": "code",
   "execution_count": 141,
   "metadata": {},
   "outputs": [
    {
     "data": {
      "text/html": [
       "<div>\n",
       "<style scoped>\n",
       "    .dataframe tbody tr th:only-of-type {\n",
       "        vertical-align: middle;\n",
       "    }\n",
       "\n",
       "    .dataframe tbody tr th {\n",
       "        vertical-align: top;\n",
       "    }\n",
       "\n",
       "    .dataframe thead th {\n",
       "        text-align: right;\n",
       "    }\n",
       "</style>\n",
       "<table border=\"1\" class=\"dataframe\">\n",
       "  <thead>\n",
       "    <tr style=\"text-align: right;\">\n",
       "      <th></th>\n",
       "      <th>Republican</th>\n",
       "      <th>Democrat</th>\n",
       "      <th>Inflation</th>\n",
       "      <th>Dem_votes</th>\n",
       "      <th>Rep_votes</th>\n",
       "      <th>spend_diff</th>\n",
       "      <th>Democrat_pred_win</th>\n",
       "      <th>Democrat_act_win</th>\n",
       "    </tr>\n",
       "  </thead>\n",
       "  <tbody>\n",
       "    <tr>\n",
       "      <th>2024</th>\n",
       "      <td>1.452617e+09</td>\n",
       "      <td>2.001292e+09</td>\n",
       "      <td>1.00</td>\n",
       "      <td>226</td>\n",
       "      <td>312</td>\n",
       "      <td>5.486747e+08</td>\n",
       "      <td>1</td>\n",
       "      <td>0</td>\n",
       "    </tr>\n",
       "    <tr>\n",
       "      <th>2020</th>\n",
       "      <td>1.305491e+09</td>\n",
       "      <td>1.949162e+09</td>\n",
       "      <td>1.20</td>\n",
       "      <td>306</td>\n",
       "      <td>232</td>\n",
       "      <td>6.436708e+08</td>\n",
       "      <td>1</td>\n",
       "      <td>1</td>\n",
       "    </tr>\n",
       "    <tr>\n",
       "      <th>2016</th>\n",
       "      <td>5.634105e+08</td>\n",
       "      <td>1.000843e+09</td>\n",
       "      <td>1.30</td>\n",
       "      <td>227</td>\n",
       "      <td>304</td>\n",
       "      <td>4.374323e+08</td>\n",
       "      <td>1</td>\n",
       "      <td>0</td>\n",
       "    </tr>\n",
       "    <tr>\n",
       "      <th>2012</th>\n",
       "      <td>8.542706e+08</td>\n",
       "      <td>1.106563e+09</td>\n",
       "      <td>1.36</td>\n",
       "      <td>332</td>\n",
       "      <td>206</td>\n",
       "      <td>2.522923e+08</td>\n",
       "      <td>1</td>\n",
       "      <td>1</td>\n",
       "    </tr>\n",
       "    <tr>\n",
       "      <th>2008</th>\n",
       "      <td>1.024145e+09</td>\n",
       "      <td>2.152778e+09</td>\n",
       "      <td>1.46</td>\n",
       "      <td>365</td>\n",
       "      <td>173</td>\n",
       "      <td>1.128632e+09</td>\n",
       "      <td>1</td>\n",
       "      <td>1</td>\n",
       "    </tr>\n",
       "    <tr>\n",
       "      <th>2004</th>\n",
       "      <td>6.132721e+08</td>\n",
       "      <td>5.485604e+08</td>\n",
       "      <td>1.67</td>\n",
       "      <td>251</td>\n",
       "      <td>286</td>\n",
       "      <td>-6.471177e+07</td>\n",
       "      <td>0</td>\n",
       "      <td>0</td>\n",
       "    </tr>\n",
       "  </tbody>\n",
       "</table>\n",
       "</div>"
      ],
      "text/plain": [
       "        Republican      Democrat  Inflation  Dem_votes  Rep_votes  \\\n",
       "2024  1.452617e+09  2.001292e+09       1.00        226        312   \n",
       "2020  1.305491e+09  1.949162e+09       1.20        306        232   \n",
       "2016  5.634105e+08  1.000843e+09       1.30        227        304   \n",
       "2012  8.542706e+08  1.106563e+09       1.36        332        206   \n",
       "2008  1.024145e+09  2.152778e+09       1.46        365        173   \n",
       "2004  6.132721e+08  5.485604e+08       1.67        251        286   \n",
       "\n",
       "        spend_diff  Democrat_pred_win  Democrat_act_win  \n",
       "2024  5.486747e+08                  1                 0  \n",
       "2020  6.436708e+08                  1                 1  \n",
       "2016  4.374323e+08                  1                 0  \n",
       "2012  2.522923e+08                  1                 1  \n",
       "2008  1.128632e+09                  1                 1  \n",
       "2004 -6.471177e+07                  0                 0  "
      ]
     },
     "execution_count": 141,
     "metadata": {},
     "output_type": "execute_result"
    }
   ],
   "source": [
    "# adjust data for inflation\n",
    "elfd[\"Republican\"] = elfd[\"Republican\"] * elfd[\"Inflation\"]\n",
    "elfd[\"Democrat\"] = elfd[\"Democrat\"] * elfd[\"Inflation\"]\n",
    "elfd[\"spend_diff\"] = elfd[\"spend_diff\"] * elfd[\"Inflation\"]\n",
    "\n",
    "elfd\n"
   ]
  },
  {
   "cell_type": "markdown",
   "metadata": {},
   "source": [
    "# Point‐Biserial Correlation\n",
    "\n",
    "Here, we consider a p-value < 0.05 as statistically significant, and a p-value < 0.01 as highly statistically significant. I high value, such as 0.99, would indicate the null hypothesis is correct, which is what we're expecting.\n",
    "\n",
    "A negative r-value suggests the correlation is inverted.\n",
    "\n",
    " - $r$ = 0.1 to 0.3 might suggest a weak negative correlation.\n",
    " - $r$ = 0.3 to 0.7 could be interpreted as a moderate negative correlation.\n",
    " - $r$ = 0.7 to 1.0 would indicate a strong negative correlation.\n",
    "\n",
    " I'm using a biserial correlation here because winning or losing the election is dichotomous, while the spending difference is continuous. I'm also assuming the variance is about equal, which is why I adjusted for inflation (although that may not be enough). I am left wondering if adjusting for economic growth would be better.\n",
    "\n",
    " I'm making the assumption that the spending difference is normally distributed, as I think it's quite safe to assume spending is. I don't think it's as safe to assume the elections are independent, they aren't, however this is the data we have."
   ]
  },
  {
   "cell_type": "code",
   "execution_count": 142,
   "metadata": {},
   "outputs": [],
   "source": [
    "from scipy.stats import pointbiserialr"
   ]
  },
  {
   "cell_type": "code",
   "execution_count": 143,
   "metadata": {},
   "outputs": [
    {
     "name": "stdout",
     "output_type": "stream",
     "text": [
      "Top 4\n",
      "r: -0.15477080246349562\n",
      "r^2: 0.023954001295194382\n",
      "p_value: 0.8452291975365043\n",
      "\n",
      "All Data\n",
      "r: 0.502950279772185\n",
      "r^2: 0.25295898392291916\n",
      "p_value: 0.30918747620918247\n"
     ]
    }
   ],
   "source": [
    "elfd_3 = elfd.head(4)\n",
    "\n",
    "print(\"Top 4\")\n",
    "r, p_value = pointbiserialr(elfd_3['Democrat_act_win'], elfd_3['spend_diff'])\n",
    "print(\"r:\", r)\n",
    "print(\"r^2:\", r**2)\n",
    "print(\"p_value:\", p_value)\n",
    "\n",
    "print(\"\\nAll Data\")\n",
    "r, p_value = pointbiserialr(elfd['Democrat_act_win'], elfd['spend_diff'])\n",
    "print(\"r:\", r)\n",
    "print(\"r^2:\", r**2)\n",
    "print(\"p_value:\", p_value)"
   ]
  },
  {
   "cell_type": "markdown",
   "metadata": {},
   "source": [
    "# Pearson Correlation Coefficient\n",
    "\n",
    "Here we assume that the two variables are normally distributed and **linear**. Linear is a big ask, however I'm concerned a Spearman's test simply doesn't have enough data to mean anything. I might as well do both"
   ]
  },
  {
   "cell_type": "code",
   "execution_count": 146,
   "metadata": {},
   "outputs": [],
   "source": [
    "from scipy import stats"
   ]
  },
  {
   "cell_type": "code",
   "execution_count": 155,
   "metadata": {},
   "outputs": [
    {
     "data": {
      "text/plain": [
       "PearsonRResult(statistic=np.float64(0.38242109178099504), pvalue=np.float64(0.4543321190647948))"
      ]
     },
     "execution_count": 155,
     "metadata": {},
     "output_type": "execute_result"
    }
   ],
   "source": [
    "X = elfd[\"spend_diff\"]\n",
    "y = elfd[\"vote_diff\"]\n",
    "\n",
    "stats.pearsonr(X, y)"
   ]
  },
  {
   "cell_type": "markdown",
   "metadata": {},
   "source": [
    "Interestingly ChatGPT really wants me to use Spearman rank, given its a small dataset and I can't confirm linearity or normality. Spearman may be the way to go.\n",
    "\n",
    "https://docs.scipy.org/doc/scipy/reference/generated/scipy.stats.spearmanr.html"
   ]
  },
  {
   "cell_type": "code",
   "execution_count": 156,
   "metadata": {},
   "outputs": [
    {
     "data": {
      "text/plain": [
       "SignificanceResult(statistic=np.float64(0.14285714285714288), pvalue=np.float64(0.7871720116618075))"
      ]
     },
     "execution_count": 156,
     "metadata": {},
     "output_type": "execute_result"
    }
   ],
   "source": [
    "stats.spearmanr(X, y)"
   ]
  },
  {
   "cell_type": "markdown",
   "metadata": {},
   "source": [
    "# Kendall’s Tau\n",
    "\n",
    "Kendall’s tau is a measure of the correspondence between two rankings. Values close to 1 indicate strong agreement, and values close to -1 indicate strong disagreement. The p-value seems to be meaningless? Although that doesn't make sense in the broader scope. Certainly, since we're near 0 for tau (i.e. statistic) It's safe to assume there is no correlation."
   ]
  },
  {
   "cell_type": "code",
   "execution_count": 154,
   "metadata": {},
   "outputs": [
    {
     "data": {
      "text/plain": [
       "SignificanceResult(statistic=np.float64(0.06666666666666665), pvalue=np.float64(1.0))"
      ]
     },
     "execution_count": 154,
     "metadata": {},
     "output_type": "execute_result"
    }
   ],
   "source": [
    "stats.kendalltau(X, y)"
   ]
  }
 ],
 "metadata": {
  "kernelspec": {
   "display_name": ".venv",
   "language": "python",
   "name": "python3"
  },
  "language_info": {
   "codemirror_mode": {
    "name": "ipython",
    "version": 3
   },
   "file_extension": ".py",
   "mimetype": "text/x-python",
   "name": "python",
   "nbconvert_exporter": "python",
   "pygments_lexer": "ipython3",
   "version": "3.9.2"
  }
 },
 "nbformat": 4,
 "nbformat_minor": 2
}

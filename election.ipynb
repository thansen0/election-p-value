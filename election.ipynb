{
 "cells": [
  {
   "cell_type": "markdown",
   "metadata": {},
   "source": [
    "# Election Statistics\n",
    "\n",
    "$H_0$: There is no relationship between campaign funding and winning\n",
    "\n",
    "$H_1$: There is a relationship between campaign funding and winning\n",
    "\n",
    "I suspect there is no relationship anymore, and that it would be a negative relationship if you look at only recent data."
   ]
  },
  {
   "cell_type": "code",
   "execution_count": 4,
   "metadata": {},
   "outputs": [],
   "source": [
    "import numpy as np\n",
    "import pandas as pd\n",
    "from scipy.stats import chisquare\n",
    "import seaborn as sns"
   ]
  },
  {
   "cell_type": "code",
   "execution_count": 5,
   "metadata": {},
   "outputs": [
    {
     "data": {
      "text/html": [
       "<div>\n",
       "<style scoped>\n",
       "    .dataframe tbody tr th:only-of-type {\n",
       "        vertical-align: middle;\n",
       "    }\n",
       "\n",
       "    .dataframe tbody tr th {\n",
       "        vertical-align: top;\n",
       "    }\n",
       "\n",
       "    .dataframe thead th {\n",
       "        text-align: right;\n",
       "    }\n",
       "</style>\n",
       "<table border=\"1\" class=\"dataframe\">\n",
       "  <thead>\n",
       "    <tr style=\"text-align: right;\">\n",
       "      <th></th>\n",
       "      <th>Republican</th>\n",
       "      <th>Democrat</th>\n",
       "      <th>Inflation</th>\n",
       "      <th>Dem_votes</th>\n",
       "      <th>Rep_votes</th>\n",
       "      <th>spend_diff</th>\n",
       "      <th>vote_diff</th>\n",
       "      <th>Democrat_pred_win</th>\n",
       "      <th>Democrat_act_win</th>\n",
       "    </tr>\n",
       "  </thead>\n",
       "  <tbody>\n",
       "    <tr>\n",
       "      <th>2024</th>\n",
       "      <td>1452617443</td>\n",
       "      <td>2001292139</td>\n",
       "      <td>1.00</td>\n",
       "      <td>226</td>\n",
       "      <td>312</td>\n",
       "      <td>548674696</td>\n",
       "      <td>-86</td>\n",
       "      <td>1</td>\n",
       "      <td>0</td>\n",
       "    </tr>\n",
       "    <tr>\n",
       "      <th>2020</th>\n",
       "      <td>1087909269</td>\n",
       "      <td>1624301628</td>\n",
       "      <td>1.20</td>\n",
       "      <td>306</td>\n",
       "      <td>232</td>\n",
       "      <td>536392359</td>\n",
       "      <td>74</td>\n",
       "      <td>1</td>\n",
       "      <td>1</td>\n",
       "    </tr>\n",
       "    <tr>\n",
       "      <th>2016</th>\n",
       "      <td>433392727</td>\n",
       "      <td>769879088</td>\n",
       "      <td>1.30</td>\n",
       "      <td>227</td>\n",
       "      <td>304</td>\n",
       "      <td>336486361</td>\n",
       "      <td>-77</td>\n",
       "      <td>1</td>\n",
       "      <td>0</td>\n",
       "    </tr>\n",
       "    <tr>\n",
       "      <th>2012</th>\n",
       "      <td>628140123</td>\n",
       "      <td>813649144</td>\n",
       "      <td>1.36</td>\n",
       "      <td>332</td>\n",
       "      <td>206</td>\n",
       "      <td>185509021</td>\n",
       "      <td>126</td>\n",
       "      <td>1</td>\n",
       "      <td>1</td>\n",
       "    </tr>\n",
       "    <tr>\n",
       "      <th>2008</th>\n",
       "      <td>701469440</td>\n",
       "      <td>1474505205</td>\n",
       "      <td>1.46</td>\n",
       "      <td>365</td>\n",
       "      <td>173</td>\n",
       "      <td>773035765</td>\n",
       "      <td>192</td>\n",
       "      <td>1</td>\n",
       "      <td>1</td>\n",
       "    </tr>\n",
       "    <tr>\n",
       "      <th>2004</th>\n",
       "      <td>367228819</td>\n",
       "      <td>328479256</td>\n",
       "      <td>1.67</td>\n",
       "      <td>251</td>\n",
       "      <td>286</td>\n",
       "      <td>-38749563</td>\n",
       "      <td>-35</td>\n",
       "      <td>0</td>\n",
       "      <td>0</td>\n",
       "    </tr>\n",
       "    <tr>\n",
       "      <th>2000</th>\n",
       "      <td>234144785</td>\n",
       "      <td>243010649</td>\n",
       "      <td>1.83</td>\n",
       "      <td>266</td>\n",
       "      <td>271</td>\n",
       "      <td>8865864</td>\n",
       "      <td>-5</td>\n",
       "      <td>1</td>\n",
       "      <td>0</td>\n",
       "    </tr>\n",
       "  </tbody>\n",
       "</table>\n",
       "</div>"
      ],
      "text/plain": [
       "      Republican    Democrat  Inflation  Dem_votes  Rep_votes  spend_diff  \\\n",
       "2024  1452617443  2001292139       1.00        226        312   548674696   \n",
       "2020  1087909269  1624301628       1.20        306        232   536392359   \n",
       "2016   433392727   769879088       1.30        227        304   336486361   \n",
       "2012   628140123   813649144       1.36        332        206   185509021   \n",
       "2008   701469440  1474505205       1.46        365        173   773035765   \n",
       "2004   367228819   328479256       1.67        251        286   -38749563   \n",
       "2000   234144785   243010649       1.83        266        271     8865864   \n",
       "\n",
       "      vote_diff  Democrat_pred_win  Democrat_act_win  \n",
       "2024        -86                  1                 0  \n",
       "2020         74                  1                 1  \n",
       "2016        -77                  1                 0  \n",
       "2012        126                  1                 1  \n",
       "2008        192                  1                 1  \n",
       "2004        -35                  0                 0  \n",
       "2000         -5                  1                 0  "
      ]
     },
     "execution_count": 5,
     "metadata": {},
     "output_type": "execute_result"
    }
   ],
   "source": [
    "# Inflation data from here, starting in Jan for each year https://www.bls.gov/data/inflation_calculator.htm\n",
    "\n",
    "elfd = pd.DataFrame(\n",
    "    {\"Republican\" : [1452617443, 1087909269, 433392727, 628140123,  701469440, 367228819, 234144785],\n",
    "     \"Democrat\"   : [2001292139, 1624301628, 769879088, 813649144, 1474505205, 328479256, 243010649],\n",
    "     \"Inflation\"  : [         1,       1.20,      1.30,      1.36,       1.46,      1.67,      1.83],\n",
    "     \"Dem_votes\"  : [       226,        306,       227,       332,        365,       251,       266],\n",
    "     \"Rep_votes\"  : [       312,        232,       304,       206,        173,       286,       271]},\n",
    "      index =       [      2024,       2020,      2016,      2012,       2008,      2004,      2000]\n",
    ")\n",
    "\n",
    "elfd[\"spend_diff\"] = elfd[\"Democrat\"] - elfd[\"Republican\"]\n",
    "elfd[\"vote_diff\"] = elfd[\"Dem_votes\"] - elfd[\"Rep_votes\"]\n",
    "\n",
    "# 1 == win, 0 == loss\n",
    "elfd[\"Democrat_pred_win\"] = np.where(elfd[\"Democrat\"] > elfd[\"Republican\"], 1, 0)\n",
    "elfd[\"Democrat_act_win\"]  = np.where(elfd[\"Dem_votes\"] > elfd[\"Rep_votes\"], 1, 0)\n",
    "\n",
    "elfd"
   ]
  },
  {
   "cell_type": "code",
   "execution_count": 6,
   "metadata": {},
   "outputs": [
    {
     "name": "stdout",
     "output_type": "stream",
     "text": [
      "        Party      Funding Democrat_act_win  Year\n",
      "0  Republican  1452.617443              win  2024\n",
      "1  Republican  1087.909269             loss  2020\n",
      "2  Republican   433.392727              win  2016\n",
      "3  Republican   628.140123             loss  2012\n",
      "4  Republican   701.469440             loss  2008\n"
     ]
    },
    {
     "data": {
      "text/plain": [
       "Text(0.5, 0.98, 'Republican and Democrat Win/Loss per Spending')"
      ]
     },
     "execution_count": 6,
     "metadata": {},
     "output_type": "execute_result"
    },
    {
     "data": {
      "image/png": "[encoded data removed]",
      "text/plain": [
       "<Figure size 739.625x600 with 1 Axes>"
      ]
     },
     "metadata": {},
     "output_type": "display_data"
    }
   ],
   "source": [
    "ndf = pd.melt(elfd).head(14).rename(columns={\"variable\": \"Party\"}).rename(columns={\"value\": \"Funding\"})\n",
    "ndf[\"Funding\"] = ndf[\"Funding\"] / 1000000 # In millions now\n",
    "ndf[\"Democrat_act_win\"] = [0,1,0,1,1,0,0,0,1,0,1,1,0,0]\n",
    "ndf[\"Democrat_act_win\"] = np.where(ndf[\"Democrat_act_win\"] == 0, \"win\", \"loss\")\n",
    "ndf[\"Year\"] = [2024, 2020, 2016, 2012, 2008, 2004, 2000, 2024, 2020, 2016, 2012, 2008, 2004, 2000]\n",
    "\n",
    "print(ndf.head(5))\n",
    "\n",
    "sns.set_theme(style=\"whitegrid\")\n",
    "reversed_palette = sns.color_palette(\"dark\", 2)[::-1]\n",
    "\n",
    "g = sns.catplot(\n",
    "    data=ndf, kind=\"bar\",\n",
    "    x=\"Year\", y=\"Funding\", hue=\"Party\",\n",
    "    errorbar=\"sd\", palette=reversed_palette, alpha=.6, height=6\n",
    ")\n",
    "g.despine(left=True)\n",
    "g.set_axis_labels(\"Election Year\", \"Spending (Millions)\")\n",
    "g.legend.set_title(\"\")\n",
    "g.fig.suptitle(\"Republican and Democrat Win/Loss per Spending\")"
   ]
  },
  {
   "cell_type": "code",
   "execution_count": 7,
   "metadata": {},
   "outputs": [
    {
     "name": "stdout",
     "output_type": "stream",
     "text": [
      "        Party      Funding Democrat_act_win  Year  Inflation\n",
      "0  Republican  1452.617443              win  2024       1.00\n",
      "1  Republican  1305.491123             loss  2020       1.20\n",
      "2  Republican   563.410545              win  2016       1.30\n",
      "3  Republican   854.270567             loss  2012       1.36\n",
      "4  Republican  1024.145382             loss  2008       1.46\n"
     ]
    },
    {
     "data": {
      "text/plain": [
       "Text(0.5, 0.98, 'Election Spending, Adjusted for Inflation')"
      ]
     },
     "execution_count": 7,
     "metadata": {},
     "output_type": "execute_result"
    },
    {
     "data": {
      "image/png": "[encoded data removed]",
      "text/plain": [
       "<Figure size 739.625x600 with 1 Axes>"
      ]
     },
     "metadata": {},
     "output_type": "display_data"
    }
   ],
   "source": [
    "ndf = pd.melt(elfd).head(14).rename(columns={\"variable\": \"Party\"}).rename(columns={\"value\": \"Funding\"})\n",
    "ndf[\"Democrat_act_win\"] = [0,1,0,1,1,0,0,0,1,0,1,1,0,0]\n",
    "ndf[\"Democrat_act_win\"] = np.where(ndf[\"Democrat_act_win\"] == 0, \"win\", \"loss\")\n",
    "ndf[\"Year\"] = [2024, 2020, 2016, 2012, 2008, 2004, 2000, 2024, 2020, 2016, 2012, 2008, 2004, 2000]\n",
    "ndf[\"Inflation\"] = [1, 1.20, 1.30, 1.36, 1.46, 1.67, 1.83, 1, 1.20, 1.30, 1.36, 1.46, 1.67, 1.83]\n",
    "ndf[\"Funding\"] = ndf[\"Funding\"] / 1000000 # In millions now\n",
    "ndf[\"Funding\"] = ndf[\"Funding\"] * ndf[\"Inflation\"]\n",
    "\n",
    "print(ndf.head(5))\n",
    "\n",
    "sns.set_theme(style=\"whitegrid\")\n",
    "reversed_palette = sns.color_palette(\"dark\", 2)[::-1]\n",
    "\n",
    "g = sns.catplot(\n",
    "    data=ndf, kind=\"bar\",\n",
    "    x=\"Year\", y=\"Funding\", hue=\"Party\",\n",
    "    errorbar=\"sd\", palette=reversed_palette, alpha=.6, height=6\n",
    ")\n",
    "g.despine(left=True)\n",
    "g.set_axis_labels(\"Election Year\", \"Spending (Millions)\")\n",
    "g.legend.set_title(\"\")\n",
    "g.fig.suptitle(\"Election Spending, Adjusted for Inflation\")"
   ]
  },
  {
   "cell_type": "code",
   "execution_count": 8,
   "metadata": {},
   "outputs": [
    {
     "data": {
      "text/html": [
       "<div>\n",
       "<style scoped>\n",
       "    .dataframe tbody tr th:only-of-type {\n",
       "        vertical-align: middle;\n",
       "    }\n",
       "\n",
       "    .dataframe tbody tr th {\n",
       "        vertical-align: top;\n",
       "    }\n",
       "\n",
       "    .dataframe thead th {\n",
       "        text-align: right;\n",
       "    }\n",
       "</style>\n",
       "<table border=\"1\" class=\"dataframe\">\n",
       "  <thead>\n",
       "    <tr style=\"text-align: right;\">\n",
       "      <th></th>\n",
       "      <th>Republican</th>\n",
       "      <th>Democrat</th>\n",
       "      <th>Inflation</th>\n",
       "      <th>Dem_votes</th>\n",
       "      <th>Rep_votes</th>\n",
       "      <th>spend_diff</th>\n",
       "      <th>vote_diff</th>\n",
       "      <th>Democrat_pred_win</th>\n",
       "      <th>Democrat_act_win</th>\n",
       "    </tr>\n",
       "  </thead>\n",
       "  <tbody>\n",
       "    <tr>\n",
       "      <th>2024</th>\n",
       "      <td>1.452617e+09</td>\n",
       "      <td>2.001292e+09</td>\n",
       "      <td>1.00</td>\n",
       "      <td>226</td>\n",
       "      <td>312</td>\n",
       "      <td>5.486747e+08</td>\n",
       "      <td>-86</td>\n",
       "      <td>1</td>\n",
       "      <td>0</td>\n",
       "    </tr>\n",
       "    <tr>\n",
       "      <th>2020</th>\n",
       "      <td>1.305491e+09</td>\n",
       "      <td>1.949162e+09</td>\n",
       "      <td>1.20</td>\n",
       "      <td>306</td>\n",
       "      <td>232</td>\n",
       "      <td>6.436708e+08</td>\n",
       "      <td>74</td>\n",
       "      <td>1</td>\n",
       "      <td>1</td>\n",
       "    </tr>\n",
       "    <tr>\n",
       "      <th>2016</th>\n",
       "      <td>5.634105e+08</td>\n",
       "      <td>1.000843e+09</td>\n",
       "      <td>1.30</td>\n",
       "      <td>227</td>\n",
       "      <td>304</td>\n",
       "      <td>4.374323e+08</td>\n",
       "      <td>-77</td>\n",
       "      <td>1</td>\n",
       "      <td>0</td>\n",
       "    </tr>\n",
       "    <tr>\n",
       "      <th>2012</th>\n",
       "      <td>8.542706e+08</td>\n",
       "      <td>1.106563e+09</td>\n",
       "      <td>1.36</td>\n",
       "      <td>332</td>\n",
       "      <td>206</td>\n",
       "      <td>2.522923e+08</td>\n",
       "      <td>126</td>\n",
       "      <td>1</td>\n",
       "      <td>1</td>\n",
       "    </tr>\n",
       "    <tr>\n",
       "      <th>2008</th>\n",
       "      <td>1.024145e+09</td>\n",
       "      <td>2.152778e+09</td>\n",
       "      <td>1.46</td>\n",
       "      <td>365</td>\n",
       "      <td>173</td>\n",
       "      <td>1.128632e+09</td>\n",
       "      <td>192</td>\n",
       "      <td>1</td>\n",
       "      <td>1</td>\n",
       "    </tr>\n",
       "    <tr>\n",
       "      <th>2004</th>\n",
       "      <td>6.132721e+08</td>\n",
       "      <td>5.485604e+08</td>\n",
       "      <td>1.67</td>\n",
       "      <td>251</td>\n",
       "      <td>286</td>\n",
       "      <td>-6.471177e+07</td>\n",
       "      <td>-35</td>\n",
       "      <td>0</td>\n",
       "      <td>0</td>\n",
       "    </tr>\n",
       "    <tr>\n",
       "      <th>2000</th>\n",
       "      <td>4.284850e+08</td>\n",
       "      <td>4.447095e+08</td>\n",
       "      <td>1.83</td>\n",
       "      <td>266</td>\n",
       "      <td>271</td>\n",
       "      <td>1.622453e+07</td>\n",
       "      <td>-5</td>\n",
       "      <td>1</td>\n",
       "      <td>0</td>\n",
       "    </tr>\n",
       "  </tbody>\n",
       "</table>\n",
       "</div>"
      ],
      "text/plain": [
       "        Republican      Democrat  Inflation  Dem_votes  Rep_votes  \\\n",
       "2024  1.452617e+09  2.001292e+09       1.00        226        312   \n",
       "2020  1.305491e+09  1.949162e+09       1.20        306        232   \n",
       "2016  5.634105e+08  1.000843e+09       1.30        227        304   \n",
       "2012  8.542706e+08  1.106563e+09       1.36        332        206   \n",
       "2008  1.024145e+09  2.152778e+09       1.46        365        173   \n",
       "2004  6.132721e+08  5.485604e+08       1.67        251        286   \n",
       "2000  4.284850e+08  4.447095e+08       1.83        266        271   \n",
       "\n",
       "        spend_diff  vote_diff  Democrat_pred_win  Democrat_act_win  \n",
       "2024  5.486747e+08        -86                  1                 0  \n",
       "2020  6.436708e+08         74                  1                 1  \n",
       "2016  4.374323e+08        -77                  1                 0  \n",
       "2012  2.522923e+08        126                  1                 1  \n",
       "2008  1.128632e+09        192                  1                 1  \n",
       "2004 -6.471177e+07        -35                  0                 0  \n",
       "2000  1.622453e+07         -5                  1                 0  "
      ]
     },
     "execution_count": 8,
     "metadata": {},
     "output_type": "execute_result"
    }
   ],
   "source": [
    "# adjust data for inflation\n",
    "elfdi = elfd.copy()\n",
    "elfdi[\"Republican\"] = elfd[\"Republican\"] * elfd[\"Inflation\"]\n",
    "elfdi[\"Democrat\"] = elfd[\"Democrat\"] * elfd[\"Inflation\"]\n",
    "elfdi[\"spend_diff\"] = elfd[\"spend_diff\"] * elfd[\"Inflation\"]\n",
    "\n",
    "elfdi\n"
   ]
  },
  {
   "cell_type": "markdown",
   "metadata": {},
   "source": [
    "# Normal Data?\n",
    "\n",
    "One requirement for the point-biserial, pearson, and spearman test is the data fall on a normal distribution. Intuitively, one would assume this is the case. But can we build a case for it through evidence? \n",
    "\n",
    "The short answer is no. I simply do not have enough data points. Using all of the data points gives me a relatively flat set of data. By removing the oldest data point, I can get something that approximates a normal distribution, however it means nothing. There simply isn't enough data to draw a reasonable conclusion out of this. I will say, on a positive note, that these data points at least don't look ridiculous. There are clusters forming which could conceivably turn into a normal gaussian distribution with more data."
   ]
  },
  {
   "cell_type": "code",
   "execution_count": 9,
   "metadata": {},
   "outputs": [],
   "source": [
    "import matplotlib.pyplot as plt"
   ]
  },
  {
   "cell_type": "code",
   "execution_count": null,
   "metadata": {},
   "outputs": [
    {
     "data": {
      "text/plain": [
       "Text(0.5, 0, 'Spending difference in Millions (USD)')"
      ]
     },
     "execution_count": 36,
     "metadata": {},
     "output_type": "execute_result"
    },
    {
     "data": {
      "image/png": "[encoded data removed]",
      "text/plain": [
       "<Figure size 1500x480 with 2 Axes>"
      ]
     },
     "metadata": {},
     "output_type": "display_data"
    }
   ],
   "source": [
    "fig = plt.figure()\n",
    "fig.set_figwidth(15)\n",
    "\n",
    "plt.subplot(1, 2, 1)\n",
    "plt.hist(abs(elfdi[\"spend_diff\"]/1000000))\n",
    "plt.title(\"Histogram using all data\")\n",
    "plt.xlabel(\"Spending difference in Millions (USD)\")\n",
    "\n",
    "plt.subplot(1, 2, 2)\n",
    "plt.hist(abs(elfdi[\"spend_diff\"]/1000000), bins=np.arange(0, 1000 + 250, 250), range=(0, 1000))\n",
    "plt.title(\"Histogram in bins of 250 (Mil)\")\n",
    "plt.xlabel(\"Spending difference in Millions (USD)\")"
   ]
  },
  {
   "cell_type": "markdown",
   "metadata": {},
   "source": [
    "# Point‐Biserial Correlation\n",
    "\n",
    "Here, we consider a p-value < 0.05 as statistically significant, and a p-value < 0.01 as highly statistically significant. I high value, such as 0.99, would indicate the null hypothesis is correct, which is what we're expecting.\n",
    "\n",
    "A negative r-value suggests the correlation is inverted.\n",
    "\n",
    " - $r$ = 0.1 to 0.3 might suggest a weak correlation.\n",
    " - $r$ = 0.3 to 0.7 could be interpreted as a moderate correlation.\n",
    " - $r$ = 0.7 to 1.0 would indicate a strong correlation.\n",
    "\n",
    " I'm using a biserial correlation here because winning or losing the election is dichotomous, while the spending difference is continuous. I'm also assuming the variance is about equal, which is why I adjusted for inflation (although that may not be enough). I am left wondering if adjusting for economic growth would be better.\n",
    "\n",
    " I'm making the assumption that the spending difference is normally distributed, as I think it's quite safe to assume spending is. I don't think it's as safe to assume the elections are independent, they aren't, however this is the data we have."
   ]
  },
  {
   "cell_type": "code",
   "execution_count": 9,
   "metadata": {},
   "outputs": [],
   "source": [
    "from scipy.stats import pointbiserialr"
   ]
  },
  {
   "cell_type": "code",
   "execution_count": 15,
   "metadata": {},
   "outputs": [
    {
     "name": "stdout",
     "output_type": "stream",
     "text": [
      "Excluding Bush Elections\n",
      "r: 0.3032653564762963\n",
      "r^2: 0.09196987643869509\n",
      "p_value: 0.6198737285312995\n",
      "\n",
      "All Data\n",
      "r: 0.5781202684388093\n",
      "r^2: 0.3342230447797609\n",
      "p_value: 0.1739769813193524\n"
     ]
    }
   ],
   "source": [
    "elfdi_5 = elfdi.head(5)\n",
    "\n",
    "print(\"Excluding Bush Elections\")\n",
    "r, p_value = pointbiserialr(elfdi_5['spend_diff'], elfdi_5['Democrat_act_win'])\n",
    "print(\"r:\", r)\n",
    "print(\"r^2:\", r**2)\n",
    "print(\"p_value:\", p_value)\n",
    "\n",
    "print(\"\\nAll Data\")\n",
    "r, p_value = pointbiserialr(elfdi['spend_diff'], elfdi['Democrat_act_win'])\n",
    "print(\"r:\", r)\n",
    "print(\"r^2:\", r**2)\n",
    "print(\"p_value:\", p_value)"
   ]
  },
  {
   "cell_type": "markdown",
   "metadata": {},
   "source": [
    "# Pearson Correlation Coefficient\n",
    "\n",
    "Here we assume that the two variables are normally distributed and **linear**. Linear is a big ask, however these sorts of assumptions generally help when you're dealing with a small sample size.\n",
    "\n",
    "A Pearson correlation coefficient test is essentially a non-dichotomous Point-Biserial Correlation test, so there isn't much more information to glean out of this. It's simple to conduct, however, so I'll leave it in here."
   ]
  },
  {
   "cell_type": "code",
   "execution_count": 16,
   "metadata": {},
   "outputs": [],
   "source": [
    "from scipy import stats"
   ]
  },
  {
   "cell_type": "code",
   "execution_count": 17,
   "metadata": {},
   "outputs": [
    {
     "data": {
      "text/plain": [
       "PearsonRResult(statistic=np.float64(0.5296268518540123), pvalue=np.float64(0.22148199790099637))"
      ]
     },
     "execution_count": 17,
     "metadata": {},
     "output_type": "execute_result"
    }
   ],
   "source": [
    "X = elfdi[\"spend_diff\"]\n",
    "y = elfdi[\"vote_diff\"]\n",
    "\n",
    "stats.pearsonr(X, y)"
   ]
  },
  {
   "cell_type": "markdown",
   "metadata": {},
   "source": [
    "# Spearman's Rank\n",
    "\n",
    "Interestingly ChatGPT really wants me to use Spearman rank, and given its a small dataset I can't confirm [linearity or normality](https://docs.scipy.org/doc/scipy/reference/generated/scipy.stats.spearmanr.html) for pearson's. Spearman may be the way to go if we don't assume those two things."
   ]
  },
  {
   "cell_type": "code",
   "execution_count": 18,
   "metadata": {},
   "outputs": [
    {
     "name": "stdout",
     "output_type": "stream",
     "text": [
      "r: 0.3214285714285715\n",
      "r^2: 0.10331632653061229\n",
      "p_value: 0.4820720382996776\n"
     ]
    }
   ],
   "source": [
    "r, p_value = stats.spearmanr(X, y)\n",
    "\n",
    "print(\"r:\", r)\n",
    "print(\"r^2:\", r**2)\n",
    "print(\"p_value:\", p_value)"
   ]
  },
  {
   "cell_type": "markdown",
   "metadata": {},
   "source": [
    "# Kendall’s Tau\n",
    "\n",
    "Kendall’s tau is a measure of the correspondence between two rankings. Values close to 1 indicate strong agreement, and values close to -1 indicate strong disagreement. Kendall's Tau excells when dealing with ordinal data, which is data where variables are ranked but the ratios of the ranking might be meaningless. In this case, I don't think spending is ordinal, however I suppose one can never truly know with a small sample size.\n",
    "\n",
    "What is great about Kendall's Tau is that it should work better with small datasets. It seems worthwhile to include this test, and in some regard I think the results are the most accurate (if I am to let my personal bias enter the discussion). The test finds almost no correlation, with a p-value of 0.56. "
   ]
  },
  {
   "cell_type": "code",
   "execution_count": 19,
   "metadata": {},
   "outputs": [
    {
     "name": "stdout",
     "output_type": "stream",
     "text": [
      "r: 0.23809523809523814\n",
      "r^2: 0.056689342403628135\n",
      "p_value: 0.5619047619047619\n"
     ]
    }
   ],
   "source": [
    "r, p_value = stats.kendalltau(X, y)\n",
    "\n",
    "print(\"r:\", r)\n",
    "print(\"r^2:\", r**2)\n",
    "print(\"p_value:\", p_value)"
   ]
  }
 ],
 "metadata": {
  "kernelspec": {
   "display_name": ".venv",
   "language": "python",
   "name": "python3"
  },
  "language_info": {
   "codemirror_mode": {
    "name": "ipython",
    "version": 3
   },
   "file_extension": ".py",
   "mimetype": "text/x-python",
   "name": "python",
   "nbconvert_exporter": "python",
   "pygments_lexer": "ipython3",
   "version": "3.9.2"
  }
 },
 "nbformat": 4,
 "nbformat_minor": 2
}
